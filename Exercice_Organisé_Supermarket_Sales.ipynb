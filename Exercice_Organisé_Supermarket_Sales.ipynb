{
 "cells": [
  {
   "cell_type": "markdown",
   "id": "b2793502",
   "metadata": {},
   "source": [
    "# Exercice : Analyse des ventes de supermarché"
   ]
  },
  {
   "cell_type": "markdown",
   "id": "02e6ca61",
   "metadata": {},
   "source": [
    "\n",
    "Dans cet exercice, vous allez explorer un dataset sur les ventes de produits dans un supermarché. \n",
    "\n",
    "### Tâches à accomplir :\n",
    "- Charger les données à partir du fichier CSV.\n",
    "- Explorer les données : identifier les colonnes, obtenir des statistiques descriptives.\n",
    "- Gérer les valeurs manquantes.\n",
    "- Visualiser les relations entre les variables.\n",
    "\n",
    "### Dataset :\n",
    "Téléchargez et utilisez le dataset `supermarket_sales.csv`.\n",
    "\n",
    "## 1. Chargement des données\n",
    "- Utilisez `pandas` pour charger le fichier CSV `supermarket_sales.csv`.\n",
    "- Affichez les premières lignes du dataset.\n",
    "\n"
   ]
  },
  {
   "cell_type": "code",
   "execution_count": 1,
   "id": "5c8a12b2",
   "metadata": {},
   "outputs": [
    {
     "data": {
      "text/html": [
       "<div>\n",
       "<style scoped>\n",
       "    .dataframe tbody tr th:only-of-type {\n",
       "        vertical-align: middle;\n",
       "    }\n",
       "\n",
       "    .dataframe tbody tr th {\n",
       "        vertical-align: top;\n",
       "    }\n",
       "\n",
       "    .dataframe thead th {\n",
       "        text-align: right;\n",
       "    }\n",
       "</style>\n",
       "<table border=\"1\" class=\"dataframe\">\n",
       "  <thead>\n",
       "    <tr style=\"text-align: right;\">\n",
       "      <th></th>\n",
       "      <th>Product</th>\n",
       "      <th>Sales_Amount</th>\n",
       "      <th>Units_Sold</th>\n",
       "      <th>Store_Location</th>\n",
       "    </tr>\n",
       "  </thead>\n",
       "  <tbody>\n",
       "    <tr>\n",
       "      <th>0</th>\n",
       "      <td>Bread</td>\n",
       "      <td>500</td>\n",
       "      <td>50</td>\n",
       "      <td>North</td>\n",
       "    </tr>\n",
       "    <tr>\n",
       "      <th>1</th>\n",
       "      <td>Milk</td>\n",
       "      <td>400</td>\n",
       "      <td>40</td>\n",
       "      <td>East</td>\n",
       "    </tr>\n",
       "    <tr>\n",
       "      <th>2</th>\n",
       "      <td>Eggs</td>\n",
       "      <td>300</td>\n",
       "      <td>60</td>\n",
       "      <td>South</td>\n",
       "    </tr>\n",
       "    <tr>\n",
       "      <th>3</th>\n",
       "      <td>Fruit</td>\n",
       "      <td>200</td>\n",
       "      <td>30</td>\n",
       "      <td>West</td>\n",
       "    </tr>\n",
       "    <tr>\n",
       "      <th>4</th>\n",
       "      <td>Vegetables</td>\n",
       "      <td>600</td>\n",
       "      <td>70</td>\n",
       "      <td>North</td>\n",
       "    </tr>\n",
       "  </tbody>\n",
       "</table>\n",
       "</div>"
      ],
      "text/plain": [
       "      Product  Sales_Amount  Units_Sold Store_Location\n",
       "0       Bread           500          50          North\n",
       "1        Milk           400          40           East\n",
       "2        Eggs           300          60          South\n",
       "3       Fruit           200          30           West\n",
       "4  Vegetables           600          70          North"
      ]
     },
     "execution_count": 1,
     "metadata": {},
     "output_type": "execute_result"
    }
   ],
   "source": [
    "# Espace pour votre code ici\n",
    "\n",
    "import pandas as pd\n",
    "import numpy as np\n",
    "import matplotlib.pyplot as plt \n",
    "import seaborn as sns \n",
    "\n",
    "# Charger les données\n",
    "\n",
    "df=pd.read_csv('/Users/ambreservaege/Downloads/supermarket_sales - supermarket_sales.csv')\n",
    "df.head()"
   ]
  },
  {
   "cell_type": "markdown",
   "id": "6fcf3988",
   "metadata": {},
   "source": [
    "\n",
    "## 2. Exploration des données\n",
    "- Utilisez `info()` pour obtenir des informations sur les colonnes et les types de données.\n",
    "- Utilisez `describe()` pour des statistiques descriptives.\n",
    "\n"
   ]
  },
  {
   "cell_type": "code",
   "execution_count": 3,
   "id": "fd3ce4dd",
   "metadata": {},
   "outputs": [
    {
     "name": "stdout",
     "output_type": "stream",
     "text": [
      "<class 'pandas.core.frame.DataFrame'>\n",
      "RangeIndex: 7 entries, 0 to 6\n",
      "Data columns (total 4 columns):\n",
      " #   Column          Non-Null Count  Dtype \n",
      "---  ------          --------------  ----- \n",
      " 0   Product         7 non-null      object\n",
      " 1   Sales_Amount    7 non-null      int64 \n",
      " 2   Units_Sold      7 non-null      int64 \n",
      " 3   Store_Location  7 non-null      object\n",
      "dtypes: int64(2), object(2)\n",
      "memory usage: 356.0+ bytes\n"
     ]
    },
    {
     "data": {
      "text/html": [
       "<div>\n",
       "<style scoped>\n",
       "    .dataframe tbody tr th:only-of-type {\n",
       "        vertical-align: middle;\n",
       "    }\n",
       "\n",
       "    .dataframe tbody tr th {\n",
       "        vertical-align: top;\n",
       "    }\n",
       "\n",
       "    .dataframe thead th {\n",
       "        text-align: right;\n",
       "    }\n",
       "</style>\n",
       "<table border=\"1\" class=\"dataframe\">\n",
       "  <thead>\n",
       "    <tr style=\"text-align: right;\">\n",
       "      <th></th>\n",
       "      <th>Sales_Amount</th>\n",
       "      <th>Units_Sold</th>\n",
       "    </tr>\n",
       "  </thead>\n",
       "  <tbody>\n",
       "    <tr>\n",
       "      <th>count</th>\n",
       "      <td>7.000000</td>\n",
       "      <td>7.000000</td>\n",
       "    </tr>\n",
       "    <tr>\n",
       "      <th>mean</th>\n",
       "      <td>371.428571</td>\n",
       "      <td>47.142857</td>\n",
       "    </tr>\n",
       "    <tr>\n",
       "      <th>std</th>\n",
       "      <td>140.999831</td>\n",
       "      <td>14.099983</td>\n",
       "    </tr>\n",
       "    <tr>\n",
       "      <th>min</th>\n",
       "      <td>200.000000</td>\n",
       "      <td>30.000000</td>\n",
       "    </tr>\n",
       "    <tr>\n",
       "      <th>25%</th>\n",
       "      <td>275.000000</td>\n",
       "      <td>37.500000</td>\n",
       "    </tr>\n",
       "    <tr>\n",
       "      <th>50%</th>\n",
       "      <td>350.000000</td>\n",
       "      <td>45.000000</td>\n",
       "    </tr>\n",
       "    <tr>\n",
       "      <th>75%</th>\n",
       "      <td>450.000000</td>\n",
       "      <td>55.000000</td>\n",
       "    </tr>\n",
       "    <tr>\n",
       "      <th>max</th>\n",
       "      <td>600.000000</td>\n",
       "      <td>70.000000</td>\n",
       "    </tr>\n",
       "  </tbody>\n",
       "</table>\n",
       "</div>"
      ],
      "text/plain": [
       "       Sales_Amount  Units_Sold\n",
       "count      7.000000    7.000000\n",
       "mean     371.428571   47.142857\n",
       "std      140.999831   14.099983\n",
       "min      200.000000   30.000000\n",
       "25%      275.000000   37.500000\n",
       "50%      350.000000   45.000000\n",
       "75%      450.000000   55.000000\n",
       "max      600.000000   70.000000"
      ]
     },
     "execution_count": 3,
     "metadata": {},
     "output_type": "execute_result"
    }
   ],
   "source": [
    "# Espace pour votre code ici\n",
    "df.info()\n",
    "# Explorer les données\n",
    "df.describe()"
   ]
  },
  {
   "cell_type": "markdown",
   "id": "18baee8e",
   "metadata": {},
   "source": [
    "\n",
    "## 3. Gestion des valeurs manquantes\n",
    "- Vérifiez s'il y a des valeurs manquantes dans les colonnes.\n",
    "- Si nécessaire, remplacez ou supprimez les valeurs manquantes.\n",
    "\n"
   ]
  },
  {
   "cell_type": "code",
   "execution_count": 17,
   "id": "ae347462",
   "metadata": {},
   "outputs": [],
   "source": [
    "# Espace pour votre code ici\n",
    "df.isnull().sum()\n",
    "# Gérer les valeurs manquantes\n",
    "df_cleaned = df.dropna()"
   ]
  },
  {
   "cell_type": "markdown",
   "id": "40e2a740",
   "metadata": {},
   "source": [
    "\n",
    "## 4. Visualisation des données\n",
    "- Utilisez des graphiques pour explorer la relation entre les ventes et les unités vendues.\n",
    "- Par exemple, un **scatter plot** pour voir la relation entre `Sales_Amount` et `Units_Sold`.\n",
    "\n"
   ]
  },
  {
   "cell_type": "code",
   "execution_count": 9,
   "id": "0f35a30c",
   "metadata": {},
   "outputs": [
    {
     "data": {
      "image/png": "[encoded data removed]",
      "text/plain": [
       "<Figure size 1000x600 with 1 Axes>"
      ]
     },
     "metadata": {},
     "output_type": "display_data"
    }
   ],
   "source": [
    "# Espace pour votre code ici\n",
    "\n",
    "import matplotlib.pyplot as plt\n",
    "import seaborn as sns\n",
    "\n",
    "# Visualisation des données\n",
    "\n",
    "plt.figure(figsize=(10,6))\n",
    "sns.scatterplot(data=df, x='Sales_Amount', y='Units_Sold')\n",
    "plt.title(\"relation entre les ventes et les unités vendues\")\n",
    "plt.show()"
   ]
  },
  {
   "cell_type": "code",
   "execution_count": null,
   "id": "641f362d-1084-4014-81f5-37000069a66d",
   "metadata": {},
   "outputs": [],
   "source": []
  }
 ],
 "metadata": {
  "kernelspec": {
   "display_name": "Python 3 (ipykernel)",
   "language": "python",
   "name": "python3"
  },
  "language_info": {
   "codemirror_mode": {
    "name": "ipython",
    "version": 3
   },
   "file_extension": ".py",
   "mimetype": "text/x-python",
   "name": "python",
   "nbconvert_exporter": "python",
   "pygments_lexer": "ipython3",
   "version": "3.12.4"
  }
 },
 "nbformat": 4,
 "nbformat_minor": 5
}
